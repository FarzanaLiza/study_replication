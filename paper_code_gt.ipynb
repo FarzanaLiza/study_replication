{
 "cells": [
  {
   "cell_type": "markdown",
   "metadata": {},
   "source": [
    "### Read data: Healthcare providers' performance from Lu et al. (2020)\n",
    "https://www.frontiersin.org/articles/10.3389/fped.2020.00544/full"
   ]
  },
  {
   "cell_type": "code",
   "execution_count": 1,
   "metadata": {},
   "outputs": [
    {
     "name": "stdout",
     "output_type": "stream",
     "text": [
      "Shape of dataset:  (50, 34)\n"
     ]
    }
   ],
   "source": [
    "import pandas as pd\n",
    "\n",
    "\n",
    "filename = \"/Users/.../Data_HC_paper.csv\"\n",
    "\n",
    "#Read csv file\n",
    "pdf = pd.read_csv(filename)\n",
    "print (\"Shape of dataset: \", pdf.shape)\n"
   ]
  },
  {
   "cell_type": "markdown",
   "metadata": {},
   "source": [
    "### Data cleaning"
   ]
  },
  {
   "cell_type": "markdown",
   "metadata": {},
   "source": [
    "- Removing participant_id column from the datafile"
   ]
  },
  {
   "cell_type": "code",
   "execution_count": 2,
   "metadata": {},
   "outputs": [],
   "source": [
    "df = pd.DataFrame(pdf)"
   ]
  },
  {
   "cell_type": "code",
   "execution_count": 4,
   "metadata": {},
   "outputs": [],
   "source": [
    "# Selecting all the features except the participant_id\n",
    "\n",
    "df_new = df[df.columns[1:]]"
   ]
  },
  {
   "cell_type": "markdown",
   "metadata": {},
   "source": [
    "### Handling missing values\n",
    "- **For continuous features: replacing missing values with mean values**\n",
    "- **For categorical features: replacing missing values with mode values** \n"
   ]
  },
  {
   "cell_type": "code",
   "execution_count": 5,
   "metadata": {},
   "outputs": [
    {
     "data": {
      "text/plain": [
       "Gender1F_2M               int64\n",
       "Months_LastNRPcourse    float64\n",
       "Education1_7              int64\n",
       "Registration1_6           int64\n",
       "Position1_6               int64\n",
       "Years_NeonatalCare      float64\n",
       "Pretest0F1P               int64\n",
       "Posttest0F1P              int64\n",
       "Mo2Test0F1P             float64\n",
       "Mo5Test0F1P             float64\n",
       "Pacing1Y2N                int64\n",
       "Terminology1Y2N           int64\n",
       "DecisionsQuickly1Y2N      int64\n",
       "Find_Actions1Y2N          int64\n",
       "RealisticScen1_5          int64\n",
       "StressfulScen1_5        float64\n",
       "EnjoyPlay1_5              int64\n",
       "GameBene1_5               int64\n",
       "Fixed1                    int64\n",
       "Fixed2                    int64\n",
       "Growth1                   int64\n",
       "Growth2                   int64\n",
       "HoursVideoMo              int64\n",
       "YearsVideoExp           float64\n",
       "PrevExp1Y2N               int64\n",
       "EnjoyReading1_5           int64\n",
       "EnjoyUsing1_5             int64\n",
       "LearningTech1_5           int64\n",
       "LookForward1_5            int64\n",
       "InterestedLearn1_5        int64\n",
       "TechInEd1_5               int64\n",
       "EnjoyTech1_5              int64\n",
       "HoursSmartphones1_5       int64\n",
       "dtype: object"
      ]
     },
     "execution_count": 5,
     "metadata": {},
     "output_type": "execute_result"
    }
   ],
   "source": [
    "df_new = df_new.fillna( {\n",
    "    'Months_LastNRPcourse':df_new[['Months_LastNRPcourse']].mean().iloc[0],\n",
    "    'Years_NeonatalCare':df_new[['Years_NeonatalCare']].mean().iloc[0],\n",
    "    'HoursVideoMo':df_new[['HoursVideoMo']].mean().iloc[0],\n",
    "    'YearsVideoExp':df_new[['YearsVideoExp']].mean().iloc[0],\n",
    "                       \n",
    "    'Mo2Test0F1P':df_new['Mo2Test0F1P'].mode().iloc[0],\n",
    "    'Mo5Test0F1P':df_new['Mo5Test0F1P'].mode().iloc[0],\n",
    "    'StressfulScen1_5':df_new['StressfulScen1_5'].mode().iloc[0]\n",
    "} )\n",
    "\n",
    "df_new.dtypes"
   ]
  },
  {
   "cell_type": "markdown",
   "metadata": {},
   "source": [
    "In order to use the Gower package, we need to create the categorical features as string features\n",
    "- First, separate continuous features from the file\n",
    "- Second, convert the rest of the features as strings or objects\n",
    "- third, add back the features that were removed in the first step "
   ]
  },
  {
   "cell_type": "code",
   "execution_count": 6,
   "metadata": {},
   "outputs": [],
   "source": [
    "df_str = df_new[df_new.columns.difference(['Months_LastNRPcourse', 'Years_NeonatalCare', 'HoursVideoMo', 'YearsVideoExp'])]"
   ]
  },
  {
   "cell_type": "code",
   "execution_count": 7,
   "metadata": {},
   "outputs": [],
   "source": [
    "df_str2= df_str.astype(str)"
   ]
  },
  {
   "cell_type": "code",
   "execution_count": 8,
   "metadata": {},
   "outputs": [],
   "source": [
    "# Combine back with the four features\n",
    "#df_new.insert(0, 'Participant_ID', df['Participant_ID'])\n",
    "df_str2.insert(0, 'Months_LastNRPcourse', df_new['Months_LastNRPcourse'])\n",
    "df_str2.insert(1, 'Years_NeonatalCare', df_new['Years_NeonatalCare'])\n",
    "df_str2.insert(2, 'HoursVideoMo', df_new['HoursVideoMo'])\n",
    "df_str2.insert(3, 'YearsVideoExp', df_new['YearsVideoExp'])\n",
    "#df_str2"
   ]
  },
  {
   "cell_type": "code",
   "execution_count": 9,
   "metadata": {},
   "outputs": [
    {
     "data": {
      "text/plain": [
       "'1'"
      ]
     },
     "execution_count": 9,
     "metadata": {},
     "output_type": "execute_result"
    }
   ],
   "source": [
    "# Making sure these features are saved as string\n",
    "df_str2.dtypes\n",
    "df_str2['DecisionsQuickly1Y2N'][0]"
   ]
  },
  {
   "cell_type": "code",
   "execution_count": 10,
   "metadata": {},
   "outputs": [],
   "source": [
    "# Adding labels to the scaled data\n",
    "\n",
    "scaled_df = pd.DataFrame(df_str2, columns= df_new.columns)\n",
    "#scaled_df"
   ]
  },
  {
   "cell_type": "markdown",
   "metadata": {},
   "source": [
    "### Gower package for catagorical features"
   ]
  },
  {
   "cell_type": "markdown",
   "metadata": {},
   "source": [
    "We can see that the variables are a mix of categorical and continuous values. We will use the Gower package to calculate the distance matrix for our feature sets.<br>\n",
    "(link: https://towardsdatascience.com/clustering-on-numerical-and-categorical-features-6e0ebcf1cbad)"
   ]
  },
  {
   "cell_type": "code",
   "execution_count": 330,
   "metadata": {},
   "outputs": [
    {
     "name": "stdout",
     "output_type": "stream",
     "text": [
      "shell-init: error retrieving current directory: getcwd: cannot access parent directories: No such file or directory\n",
      "The folder you are executing pip from can no longer be found.\n",
      "Note: you may need to restart the kernel to use updated packages.\n"
     ]
    }
   ],
   "source": [
    "pip install gower"
   ]
  },
  {
   "cell_type": "code",
   "execution_count": 11,
   "metadata": {},
   "outputs": [
    {
     "data": {
      "text/plain": [
       "array([[0.        , 0.44273946, 0.5764492 , ..., 0.53128326, 0.4115267 ,\n",
       "        0.52452624],\n",
       "       [0.44273946, 0.        , 0.3418784 , ..., 0.50969946, 0.23756196,\n",
       "        0.4454232 ],\n",
       "       [0.5764492 , 0.3418784 , 0.        , ..., 0.4997114 , 0.20907836,\n",
       "        0.42106783],\n",
       "       ...,\n",
       "       [0.53128326, 0.50969946, 0.4997114 , ..., 0.        , 0.50474936,\n",
       "        0.55714285],\n",
       "       [0.4115267 , 0.23756196, 0.20907836, ..., 0.50474936, 0.        ,\n",
       "        0.32512078],\n",
       "       [0.52452624, 0.4454232 , 0.42106783, ..., 0.55714285, 0.32512078,\n",
       "        0.        ]], dtype=float32)"
      ]
     },
     "execution_count": 11,
     "metadata": {},
     "output_type": "execute_result"
    }
   ],
   "source": [
    "import gower\n",
    "\n",
    "dist_matrix = gower.gower_matrix(scaled_df)\n",
    "dist_matrix"
   ]
  },
  {
   "cell_type": "markdown",
   "metadata": {},
   "source": [
    "### Clustering using scikit-learn "
   ]
  },
  {
   "cell_type": "code",
   "execution_count": 13,
   "metadata": {},
   "outputs": [],
   "source": [
    "import numpy as np \n",
    "from scipy import ndimage \n",
    "from scipy.cluster import hierarchy \n",
    "from scipy.spatial import distance_matrix \n",
    "from matplotlib import pyplot as plt \n",
    "from sklearn import manifold, datasets \n",
    "from sklearn.cluster import AgglomerativeClustering \n",
    "from sklearn.datasets import make_blobs \n",
    "%matplotlib inline"
   ]
  },
  {
   "cell_type": "code",
   "execution_count": 14,
   "metadata": {},
   "outputs": [
    {
     "name": "stderr",
     "output_type": "stream",
     "text": [
      "/Users/farzanayasmin/anaconda3/lib/python3.7/site-packages/ipykernel_launcher.py:1: ClusterWarning: scipy.cluster: The symmetric non-negative hollow observation matrix looks suspiciously like an uncondensed distance matrix\n",
      "  \"\"\"Entry point for launching an IPython kernel.\n"
     ]
    }
   ],
   "source": [
    "Z_using_dist_matrix = hierarchy.linkage(dist_matrix, 'ward')"
   ]
  },
  {
   "cell_type": "code",
   "execution_count": 15,
   "metadata": {},
   "outputs": [
    {
     "data": {
      "image/png": "[encoded data removed]",
      "text/plain": [
       "<Figure size 1296x720 with 1 Axes>"
      ]
     },
     "metadata": {
      "needs_background": "light"
     },
     "output_type": "display_data"
    }
   ],
   "source": [
    "import pylab\n",
    "fig = pylab.figure(figsize=(18,10))\n",
    "dendro = hierarchy.dendrogram(Z_using_dist_matrix, leaf_rotation=90, leaf_font_size =8, orientation = 'top')"
   ]
  },
  {
   "cell_type": "code",
   "execution_count": 137,
   "metadata": {},
   "outputs": [],
   "source": [
    "#Z_using_dist_matrix\n",
    "#help(hierarchy.linkage)"
   ]
  },
  {
   "cell_type": "code",
   "execution_count": 16,
   "metadata": {},
   "outputs": [
    {
     "name": "stderr",
     "output_type": "stream",
     "text": [
      "/Users/farzanayasmin/anaconda3/lib/python3.7/site-packages/scipy/cluster/hierarchy.py:830: ClusterWarning: scipy.cluster: The symmetric non-negative hollow observation matrix looks suspiciously like an uncondensed distance matrix\n",
      "  return linkage(y, method='ward', metric='euclidean')\n"
     ]
    },
    {
     "data": {
      "text/plain": [
       "array([0, 0, 1, 1, 0, 1, 0, 1, 0, 0, 1, 0, 0, 0, 2, 0, 2, 1, 1, 0, 1, 1,\n",
       "       0, 1, 0, 1, 2, 1, 1, 0, 0, 0, 0, 0, 0, 1, 2, 2, 2, 1, 1, 2, 0, 1,\n",
       "       0, 2, 1, 0, 1, 1])"
      ]
     },
     "execution_count": 16,
     "metadata": {},
     "output_type": "execute_result"
    }
   ],
   "source": [
    "agglom = AgglomerativeClustering(n_clusters = 3, linkage = 'ward')\n",
    "agglom.fit(dist_matrix)\n",
    "\n",
    "agglom.labels_"
   ]
  },
  {
   "cell_type": "code",
   "execution_count": 17,
   "metadata": {},
   "outputs": [],
   "source": [
    "df_str2['cluster_'] = agglom.labels_\n",
    "#df_str2\n"
   ]
  },
  {
   "cell_type": "code",
   "execution_count": 18,
   "metadata": {},
   "outputs": [],
   "source": [
    "# Add back the Paricipant_id column to the datafile to compare the cluster labels\n",
    "\n",
    "df_str2.insert(0, 'Participant_ID', df['Participant_ID'])"
   ]
  },
  {
   "cell_type": "code",
   "execution_count": 625,
   "metadata": {},
   "outputs": [],
   "source": [
    "df_str2.to_csv(\"/Users/.../Data_HC_Ward.csv\")"
   ]
  },
  {
   "cell_type": "code",
   "execution_count": 19,
   "metadata": {},
   "outputs": [],
   "source": [
    "linkage_matrix = hierarchy.linkage(agglom.children_)\n"
   ]
  },
  {
   "cell_type": "markdown",
   "metadata": {},
   "source": [
    "- **Use 'Truncate_mode' options to choose how many clusters we can choose.**"
   ]
  },
  {
   "cell_type": "code",
   "execution_count": 27,
   "metadata": {
    "scrolled": true
   },
   "outputs": [
    {
     "data": {
      "image/png": "[encoded data removed]",
      "text/plain": [
       "<Figure size 1080x432 with 1 Axes>"
      ]
     },
     "metadata": {
      "needs_background": "light"
     },
     "output_type": "display_data"
    }
   ],
   "source": [
    "plt.figure(figsize=(15,6))\n",
    "dendro= hierarchy.dendrogram(linkage_matrix, truncate_mode = 'lastp', p=10)"
   ]
  },
  {
   "cell_type": "code",
   "execution_count": null,
   "metadata": {},
   "outputs": [],
   "source": []
  }
 ],
 "metadata": {
  "kernelspec": {
   "display_name": "Python 3",
   "language": "python",
   "name": "python3"
  },
  "language_info": {
   "codemirror_mode": {
    "name": "ipython",
    "version": 3
   },
   "file_extension": ".py",
   "mimetype": "text/x-python",
   "name": "python",
   "nbconvert_exporter": "python",
   "pygments_lexer": "ipython3",
   "version": "3.7.6"
  }
 },
 "nbformat": 4,
 "nbformat_minor": 4
}
